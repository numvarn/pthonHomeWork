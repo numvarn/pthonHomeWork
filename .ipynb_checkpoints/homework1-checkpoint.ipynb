{
 "cells": [
  {
   "cell_type": "markdown",
   "id": "98c55078-f9b2-47a8-aada-b2dfc23cb22e",
   "metadata": {},
   "source": [
    "### ใบงานที่ 1 : การส่งการบ้านผ่าน Git"
   ]
  },
  {
   "cell_type": "raw",
   "id": "9c46592a-9316-41cc-9a40-16d0a473b95e",
   "metadata": {},
   "source": [
    "นายพิศาล สุขขี 6526272828"
   ]
  },
  {
   "cell_type": "code",
   "execution_count": 1,
   "id": "6bf37135-e8f3-4c4d-976e-20c0f005e1a4",
   "metadata": {},
   "outputs": [
    {
     "name": "stdout",
     "output_type": "stream",
     "text": [
      "Hello, World!\n"
     ]
    }
   ],
   "source": [
    "print(\"Hello, World!\")"
   ]
  },
  {
   "cell_type": "code",
   "execution_count": 2,
   "id": "8ef9a6e6-0fd2-49a3-b424-8bbb0ee6be32",
   "metadata": {},
   "outputs": [
    {
     "name": "stdout",
     "output_type": "stream",
     "text": [
      "Edit\n"
     ]
    }
   ],
   "source": [
    "print(\"Edit\")"
   ]
  },
  {
   "cell_type": "code",
   "execution_count": null,
   "id": "84df4b3a-618d-400f-b3b0-726cd4ae8d9e",
   "metadata": {},
   "outputs": [],
   "source": []
  }
 ],
 "metadata": {
  "kernelspec": {
   "display_name": "Python 3 (ipykernel)",
   "language": "python",
   "name": "python3"
  },
  "language_info": {
   "codemirror_mode": {
    "name": "ipython",
    "version": 3
   },
   "file_extension": ".py",
   "mimetype": "text/x-python",
   "name": "python",
   "nbconvert_exporter": "python",
   "pygments_lexer": "ipython3",
   "version": "3.9.12"
  }
 },
 "nbformat": 4,
 "nbformat_minor": 5
}
